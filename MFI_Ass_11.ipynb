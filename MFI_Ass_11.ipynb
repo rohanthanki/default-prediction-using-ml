{
 "cells": [
  {
   "cell_type": "code",
   "execution_count": 17,
   "id": "b1a4d049-631a-4c19-835e-a01ba4b3d62b",
   "metadata": {},
   "outputs": [],
   "source": [
    "import numpy as np\n",
    "import pandas as pd\n",
    "from sklearn.preprocessing import StandardScaler"
   ]
  },
  {
   "cell_type": "code",
   "execution_count": 3,
   "id": "ab3e1315-486e-4f09-9c01-3fe6502abe6a",
   "metadata": {},
   "outputs": [
    {
     "name": "stderr",
     "output_type": "stream",
     "text": [
      "C:\\ProgramData\\Anaconda3\\envs\\MFI_Assignment_11\\lib\\site-packages\\IPython\\core\\interactiveshell.py:3444: DtypeWarning: Columns (1,12) have mixed types.Specify dtype option on import or set low_memory=False.\n",
      "  exec(code_obj, self.user_global_ns, self.user_ns)\n"
     ]
    }
   ],
   "source": [
    "data = pd.read_csv('Data/merged_data.csv')"
   ]
  },
  {
   "cell_type": "raw",
   "id": "046b312e-9c3f-4375-a9c4-a11c48b60315",
   "metadata": {},
   "source": [
    "`Investment` = case_when(scf %in% c(1,2,3) ~ capx+ivch+aqc+fuseo-sppe-siv,\n",
    "                         scf == 7 ~ capx+ivch+aqc-sppe-siv-ivstch-ivaco),\n",
    "`Change in Working Capital` = case_when(scf == 1 ~ wcapc+chech+dlcch,\n",
    "                                     scf %in% c(2,3) ~ -wcapc+chech-dlcch,\n",
    "                                     scf == 7 ~ -recch-invch-apalch-txach-aoloch+chech-fiao-dlcch),\n",
    "`Internal Cash Flow` = case_when(scf %in% c(1,2,3) ~ ibc+xidoc+dpc+txdc+esubc+sppiv+fopo+fsrco,\n",
    "                              scf == 7 ~ ibc+xidoc+dpc+txdc+esubc+sppiv+fopo+exre),"
   ]
  },
  {
   "cell_type": "code",
   "execution_count": 7,
   "id": "cce33400-93da-4f42-86f4-8a5602dfe0ea",
   "metadata": {},
   "outputs": [],
   "source": [
    "def compute_features(df_raw):\n",
    "    df = df_raw.copy()\n",
    "    \n",
    "    # Computing quantities\n",
    "    df['Net Assets'] = df['at'] - df['lct']\n",
    "    \n",
    "    # Change these 3\n",
    "    df['Investment'] = np.where(df['scf'].isin([1,2,3]),\n",
    "                                df['capx'] + df['ivch'] + df['aqc'] + df['fuseo'] - df['sppe'] - df['siv'],\n",
    "                                np.where(df['scf'] == 7,df['capx'] + df['ivch'] + df['aqc'] - df['sppe'] - df['siv'] - df['ivstch'] - df['ivaco'],np.nan)\n",
    "                                )\n",
    "    df['Change in Working Capital'] = np.where(df['scf'] == 1,\n",
    "                                               df['wcapc'] + df['chech'] + df['dlcch'],\n",
    "                                               np.where(df['scf'].isin([2,3]),\n",
    "                                                        - df['wcapc'] + df['chech'] + df['dlcch'],\n",
    "                                                        np.where(df['scf'] == 7,\n",
    "                                                                 - df['recch'] - df['invch'] - df['apalch'] - df['txach'] - df['aoloch'] + df['chech'] - df['fiao'] - df['dlcch'],\n",
    "                                                                 np.nan)))\n",
    "    \n",
    "    df['Internal Cash Flow'] = np.where(df['scf'].isin([1,2,3]),\n",
    "                                        df['ibc'] + df['xidoc'] + df['dpc'] + df['txdc'] + df['esubc'] + df['sppiv'] + df['fopo'] + df['fsrco'],\n",
    "                                        np.where(df['scf'] == 7,\n",
    "                                                 df['ibc'] + df['xidoc'] + df['dpc'] + df['txdc'] + df['esubc'] + df['sppiv'] + df['fopo'] + df['exre'],\n",
    "                                                 np.nan))\n",
    "    \n",
    "    \n",
    "    df['Financing Deficit'] = df['dv'] + df['Investment'] - df['Change in Working Capital'] - df['Internal Cash Flow']\n",
    "    df['Net Debt Issued'] = df['dltis'] - df['dltr']\n",
    "    df['Net Equity Issued'] = df['sstk'] - df['prstkc']\n",
    "    df['Net External Financing'] = df['Net Debt Issued'] + df['Net Equity Issued']\n",
    "    df['Total Debt'] = df['dlc'] + df['dltt']\n",
    "    df['Book Capitalization'] = df['Total Debt'] + df['teq']\n",
    "    \n",
    "    df['Current maturity of long-term debt/net assets'] = df['dlc'] / df['Net Assets']\n",
    "    df['Long Term Debt / Total Assets'] = df['dltt'] / df['at']\n",
    "    df['Book Leverage'] = (df['dltt'] + df['dlc'])/(df['dltt'] + df['dlc'] + df['seq'])\n",
    "    df['Cash Dividend / Net Assets'] = df['dv'] / df['Net Assets']\n",
    "    df['Investment / df[Net Assets'] = df['Investment'] / df['Net Assets']\n",
    "    df['Change in Working capital / df[Net Assets'] = df['Change in Working Capital'] / df['Net Assets']\n",
    "    df['Internal Cash Flow / Net Assets'] = df['Internal Cash Flow'] / df['Net Assets']\n",
    "    df['Financing Deficit / Net Assets'] = df['Financing Deficit'] / df['Net Assets']\n",
    "    df['Gross LT Debt Issued / Net Assets'] = df['dltis'] / df['Net Assets']\n",
    "    df['Net Debt Issued / Net Assets'] = df['Net Debt Issued'] / df['Net Assets']\n",
    "    df['Net Equity Issued / Net Assets'] = df['Net Equity Issued'] / df['Net Assets']\n",
    "    df['Net External Financing / Net Assets'] = df['Net External Financing'] / df['Net Assets']\n",
    "    df['Total Debt / Book Capitalization'] = df['Total Debt'] / df['Book Capitalization']\n",
    "    df['Tangibility'] = df['ppent'] / df['at']\n",
    "    df['Market Value of Assets / df[Book Value of Assets'] = df['mkvalt'] / df['at']\n",
    "    df['Log Sales'] = df['sale']\n",
    "    df['Profitability'] = df['ni'] / df['at']\n",
    "    df['Current Ratio'] = df['act'] - df['lct']\n",
    "    df['Quick Ratio'] = (df['che'] + df['rect']) / df['lct']\n",
    "    df['Debt to Equity'] = df['lt'] / df['teq']\n",
    "    df['Interest Burden'] = 1 - (df['xint'] / df['oiadp'])\n",
    "    df['Interest Coverage'] = df['oiadp'] / df['xint']\n",
    "    df['Leverage'] = df['at'] / df['teq']\n",
    "    df['Return on Sales (Profit Margin)'] =  df['oiadp'] / df['sale']\n",
    "    df['Working Capital / Total Assets'] = ( df['act'] - df['lct']) / df['at']\n",
    "    df['Retained Earnings / Total Assets'] =  df['re'] / df['at']\n",
    "    df['Earning Before Interest & Tax / Total Assets'] =  df['oiadp'] / df['at']\n",
    "    df['Market Value of Equity / Total Liabilities'] = ( df['prcc_f']* df['csho']) / df['lt']\n",
    "    df['Sales / Total Assets'] =  df['sale']/ df['at']\n",
    "    \n",
    "    return(df)\n",
    "\n",
    "data_w = compute_features(data)"
   ]
  },
  {
   "cell_type": "code",
   "execution_count": 18,
   "id": "5383b1c8-e78e-4e5f-a9e8-00659b19e2ce",
   "metadata": {},
   "outputs": [],
   "source": [
    "def select_features(df):    \n",
    "    \n",
    "    # Selecting the feature matrix\n",
    "    # X = df[[]].to_numpy()\n",
    "    X = data_w[data_w.columns.difference(['BANKRUPTCY_FLAG'])].to_numpy()  # Change this to subset only the relavant computed colums\n",
    "    y = df['Y'].to_numpy()\n",
    "    \n",
    "    # Standardising the input features\n",
    "    scaler = StandardScaler()\n",
    "    X_scaled = scaler.fit_transform(X)\n",
    "    \n",
    "    # Returning X and y values\n",
    "    return(X_scaled,y)"
   ]
  },
  {
   "cell_type": "code",
   "execution_count": 19,
   "id": "cf32452a-e335-4d60-932f-6ca3484f73bd",
   "metadata": {},
   "outputs": [
    {
     "ename": "ValueError",
     "evalue": "could not convert string to float: '00077R'",
     "output_type": "error",
     "traceback": [
      "\u001b[1;31m---------------------------------------------------------------------------\u001b[0m",
      "\u001b[1;31mValueError\u001b[0m                                Traceback (most recent call last)",
      "\u001b[1;32m~\\AppData\\Local\\Temp/ipykernel_2612/2504548908.py\u001b[0m in \u001b[0;36m<module>\u001b[1;34m\u001b[0m\n\u001b[0;32m      1\u001b[0m \u001b[1;32mif\u001b[0m \u001b[1;34m'BANKRUPTCY_FLAG'\u001b[0m \u001b[1;32min\u001b[0m \u001b[0mlist\u001b[0m\u001b[1;33m(\u001b[0m\u001b[0mdata_w\u001b[0m\u001b[1;33m.\u001b[0m\u001b[0mcolumns\u001b[0m\u001b[1;33m)\u001b[0m\u001b[1;33m:\u001b[0m\u001b[1;33m\u001b[0m\u001b[1;33m\u001b[0m\u001b[0m\n\u001b[0;32m      2\u001b[0m     \u001b[0mdata_w\u001b[0m \u001b[1;33m=\u001b[0m \u001b[0mdata_w\u001b[0m\u001b[1;33m.\u001b[0m\u001b[0mrename\u001b[0m\u001b[1;33m(\u001b[0m\u001b[0mcolumns\u001b[0m \u001b[1;33m=\u001b[0m \u001b[1;33m{\u001b[0m\u001b[1;34m'BANKRUPTCY_FLAG'\u001b[0m\u001b[1;33m:\u001b[0m\u001b[1;34m'Y'\u001b[0m\u001b[1;33m}\u001b[0m\u001b[1;33m)\u001b[0m\u001b[1;33m\u001b[0m\u001b[1;33m\u001b[0m\u001b[0m\n\u001b[1;32m----> 3\u001b[1;33m \u001b[0mselect_features\u001b[0m\u001b[1;33m(\u001b[0m\u001b[0mdata_w\u001b[0m\u001b[1;33m)\u001b[0m\u001b[1;33m\u001b[0m\u001b[1;33m\u001b[0m\u001b[0m\n\u001b[0m",
      "\u001b[1;32m~\\AppData\\Local\\Temp/ipykernel_2612/162640791.py\u001b[0m in \u001b[0;36mselect_features\u001b[1;34m(df)\u001b[0m\n\u001b[0;32m      8\u001b[0m     \u001b[1;31m# Standardising the input features\u001b[0m\u001b[1;33m\u001b[0m\u001b[1;33m\u001b[0m\u001b[1;33m\u001b[0m\u001b[0m\n\u001b[0;32m      9\u001b[0m     \u001b[0mscaler\u001b[0m \u001b[1;33m=\u001b[0m \u001b[0mStandardScaler\u001b[0m\u001b[1;33m(\u001b[0m\u001b[1;33m)\u001b[0m\u001b[1;33m\u001b[0m\u001b[1;33m\u001b[0m\u001b[0m\n\u001b[1;32m---> 10\u001b[1;33m     \u001b[0mX_scaled\u001b[0m \u001b[1;33m=\u001b[0m \u001b[0mscaler\u001b[0m\u001b[1;33m.\u001b[0m\u001b[0mfit_transform\u001b[0m\u001b[1;33m(\u001b[0m\u001b[0mX\u001b[0m\u001b[1;33m)\u001b[0m\u001b[1;33m\u001b[0m\u001b[1;33m\u001b[0m\u001b[0m\n\u001b[0m\u001b[0;32m     11\u001b[0m \u001b[1;33m\u001b[0m\u001b[0m\n\u001b[0;32m     12\u001b[0m     \u001b[1;31m# Returning X and y values\u001b[0m\u001b[1;33m\u001b[0m\u001b[1;33m\u001b[0m\u001b[1;33m\u001b[0m\u001b[0m\n",
      "\u001b[1;32mC:\\ProgramData\\Anaconda3\\envs\\MFI_Assignment_11\\lib\\site-packages\\sklearn\\base.py\u001b[0m in \u001b[0;36mfit_transform\u001b[1;34m(self, X, y, **fit_params)\u001b[0m\n\u001b[0;32m    845\u001b[0m         \u001b[1;32mif\u001b[0m \u001b[0my\u001b[0m \u001b[1;32mis\u001b[0m \u001b[1;32mNone\u001b[0m\u001b[1;33m:\u001b[0m\u001b[1;33m\u001b[0m\u001b[1;33m\u001b[0m\u001b[0m\n\u001b[0;32m    846\u001b[0m             \u001b[1;31m# fit method of arity 1 (unsupervised transformation)\u001b[0m\u001b[1;33m\u001b[0m\u001b[1;33m\u001b[0m\u001b[1;33m\u001b[0m\u001b[0m\n\u001b[1;32m--> 847\u001b[1;33m             \u001b[1;32mreturn\u001b[0m \u001b[0mself\u001b[0m\u001b[1;33m.\u001b[0m\u001b[0mfit\u001b[0m\u001b[1;33m(\u001b[0m\u001b[0mX\u001b[0m\u001b[1;33m,\u001b[0m \u001b[1;33m**\u001b[0m\u001b[0mfit_params\u001b[0m\u001b[1;33m)\u001b[0m\u001b[1;33m.\u001b[0m\u001b[0mtransform\u001b[0m\u001b[1;33m(\u001b[0m\u001b[0mX\u001b[0m\u001b[1;33m)\u001b[0m\u001b[1;33m\u001b[0m\u001b[1;33m\u001b[0m\u001b[0m\n\u001b[0m\u001b[0;32m    848\u001b[0m         \u001b[1;32melse\u001b[0m\u001b[1;33m:\u001b[0m\u001b[1;33m\u001b[0m\u001b[1;33m\u001b[0m\u001b[0m\n\u001b[0;32m    849\u001b[0m             \u001b[1;31m# fit method of arity 2 (supervised transformation)\u001b[0m\u001b[1;33m\u001b[0m\u001b[1;33m\u001b[0m\u001b[1;33m\u001b[0m\u001b[0m\n",
      "\u001b[1;32mC:\\ProgramData\\Anaconda3\\envs\\MFI_Assignment_11\\lib\\site-packages\\sklearn\\preprocessing\\_data.py\u001b[0m in \u001b[0;36mfit\u001b[1;34m(self, X, y, sample_weight)\u001b[0m\n\u001b[0;32m    804\u001b[0m         \u001b[1;31m# Reset internal state before fitting\u001b[0m\u001b[1;33m\u001b[0m\u001b[1;33m\u001b[0m\u001b[1;33m\u001b[0m\u001b[0m\n\u001b[0;32m    805\u001b[0m         \u001b[0mself\u001b[0m\u001b[1;33m.\u001b[0m\u001b[0m_reset\u001b[0m\u001b[1;33m(\u001b[0m\u001b[1;33m)\u001b[0m\u001b[1;33m\u001b[0m\u001b[1;33m\u001b[0m\u001b[0m\n\u001b[1;32m--> 806\u001b[1;33m         \u001b[1;32mreturn\u001b[0m \u001b[0mself\u001b[0m\u001b[1;33m.\u001b[0m\u001b[0mpartial_fit\u001b[0m\u001b[1;33m(\u001b[0m\u001b[0mX\u001b[0m\u001b[1;33m,\u001b[0m \u001b[0my\u001b[0m\u001b[1;33m,\u001b[0m \u001b[0msample_weight\u001b[0m\u001b[1;33m)\u001b[0m\u001b[1;33m\u001b[0m\u001b[1;33m\u001b[0m\u001b[0m\n\u001b[0m\u001b[0;32m    807\u001b[0m \u001b[1;33m\u001b[0m\u001b[0m\n\u001b[0;32m    808\u001b[0m     \u001b[1;32mdef\u001b[0m \u001b[0mpartial_fit\u001b[0m\u001b[1;33m(\u001b[0m\u001b[0mself\u001b[0m\u001b[1;33m,\u001b[0m \u001b[0mX\u001b[0m\u001b[1;33m,\u001b[0m \u001b[0my\u001b[0m\u001b[1;33m=\u001b[0m\u001b[1;32mNone\u001b[0m\u001b[1;33m,\u001b[0m \u001b[0msample_weight\u001b[0m\u001b[1;33m=\u001b[0m\u001b[1;32mNone\u001b[0m\u001b[1;33m)\u001b[0m\u001b[1;33m:\u001b[0m\u001b[1;33m\u001b[0m\u001b[1;33m\u001b[0m\u001b[0m\n",
      "\u001b[1;32mC:\\ProgramData\\Anaconda3\\envs\\MFI_Assignment_11\\lib\\site-packages\\sklearn\\preprocessing\\_data.py\u001b[0m in \u001b[0;36mpartial_fit\u001b[1;34m(self, X, y, sample_weight)\u001b[0m\n\u001b[0;32m    845\u001b[0m             \u001b[0mdtype\u001b[0m\u001b[1;33m=\u001b[0m\u001b[0mFLOAT_DTYPES\u001b[0m\u001b[1;33m,\u001b[0m\u001b[1;33m\u001b[0m\u001b[1;33m\u001b[0m\u001b[0m\n\u001b[0;32m    846\u001b[0m             \u001b[0mforce_all_finite\u001b[0m\u001b[1;33m=\u001b[0m\u001b[1;34m\"allow-nan\"\u001b[0m\u001b[1;33m,\u001b[0m\u001b[1;33m\u001b[0m\u001b[1;33m\u001b[0m\u001b[0m\n\u001b[1;32m--> 847\u001b[1;33m             \u001b[0mreset\u001b[0m\u001b[1;33m=\u001b[0m\u001b[0mfirst_call\u001b[0m\u001b[1;33m,\u001b[0m\u001b[1;33m\u001b[0m\u001b[1;33m\u001b[0m\u001b[0m\n\u001b[0m\u001b[0;32m    848\u001b[0m         )\n\u001b[0;32m    849\u001b[0m         \u001b[0mn_features\u001b[0m \u001b[1;33m=\u001b[0m \u001b[0mX\u001b[0m\u001b[1;33m.\u001b[0m\u001b[0mshape\u001b[0m\u001b[1;33m[\u001b[0m\u001b[1;36m1\u001b[0m\u001b[1;33m]\u001b[0m\u001b[1;33m\u001b[0m\u001b[1;33m\u001b[0m\u001b[0m\n",
      "\u001b[1;32mC:\\ProgramData\\Anaconda3\\envs\\MFI_Assignment_11\\lib\\site-packages\\sklearn\\base.py\u001b[0m in \u001b[0;36m_validate_data\u001b[1;34m(self, X, y, reset, validate_separately, **check_params)\u001b[0m\n\u001b[0;32m    559\u001b[0m             \u001b[1;32mraise\u001b[0m \u001b[0mValueError\u001b[0m\u001b[1;33m(\u001b[0m\u001b[1;34m\"Validation should be done on X, y or both.\"\u001b[0m\u001b[1;33m)\u001b[0m\u001b[1;33m\u001b[0m\u001b[1;33m\u001b[0m\u001b[0m\n\u001b[0;32m    560\u001b[0m         \u001b[1;32melif\u001b[0m \u001b[1;32mnot\u001b[0m \u001b[0mno_val_X\u001b[0m \u001b[1;32mand\u001b[0m \u001b[0mno_val_y\u001b[0m\u001b[1;33m:\u001b[0m\u001b[1;33m\u001b[0m\u001b[1;33m\u001b[0m\u001b[0m\n\u001b[1;32m--> 561\u001b[1;33m             \u001b[0mX\u001b[0m \u001b[1;33m=\u001b[0m \u001b[0mcheck_array\u001b[0m\u001b[1;33m(\u001b[0m\u001b[0mX\u001b[0m\u001b[1;33m,\u001b[0m \u001b[1;33m**\u001b[0m\u001b[0mcheck_params\u001b[0m\u001b[1;33m)\u001b[0m\u001b[1;33m\u001b[0m\u001b[1;33m\u001b[0m\u001b[0m\n\u001b[0m\u001b[0;32m    562\u001b[0m             \u001b[0mout\u001b[0m \u001b[1;33m=\u001b[0m \u001b[0mX\u001b[0m\u001b[1;33m\u001b[0m\u001b[1;33m\u001b[0m\u001b[0m\n\u001b[0;32m    563\u001b[0m         \u001b[1;32melif\u001b[0m \u001b[0mno_val_X\u001b[0m \u001b[1;32mand\u001b[0m \u001b[1;32mnot\u001b[0m \u001b[0mno_val_y\u001b[0m\u001b[1;33m:\u001b[0m\u001b[1;33m\u001b[0m\u001b[1;33m\u001b[0m\u001b[0m\n",
      "\u001b[1;32mC:\\ProgramData\\Anaconda3\\envs\\MFI_Assignment_11\\lib\\site-packages\\sklearn\\utils\\validation.py\u001b[0m in \u001b[0;36mcheck_array\u001b[1;34m(array, accept_sparse, accept_large_sparse, dtype, order, copy, force_all_finite, ensure_2d, allow_nd, ensure_min_samples, ensure_min_features, estimator)\u001b[0m\n\u001b[0;32m    736\u001b[0m                     \u001b[0marray\u001b[0m \u001b[1;33m=\u001b[0m \u001b[0marray\u001b[0m\u001b[1;33m.\u001b[0m\u001b[0mastype\u001b[0m\u001b[1;33m(\u001b[0m\u001b[0mdtype\u001b[0m\u001b[1;33m,\u001b[0m \u001b[0mcasting\u001b[0m\u001b[1;33m=\u001b[0m\u001b[1;34m\"unsafe\"\u001b[0m\u001b[1;33m,\u001b[0m \u001b[0mcopy\u001b[0m\u001b[1;33m=\u001b[0m\u001b[1;32mFalse\u001b[0m\u001b[1;33m)\u001b[0m\u001b[1;33m\u001b[0m\u001b[1;33m\u001b[0m\u001b[0m\n\u001b[0;32m    737\u001b[0m                 \u001b[1;32melse\u001b[0m\u001b[1;33m:\u001b[0m\u001b[1;33m\u001b[0m\u001b[1;33m\u001b[0m\u001b[0m\n\u001b[1;32m--> 738\u001b[1;33m                     \u001b[0marray\u001b[0m \u001b[1;33m=\u001b[0m \u001b[0mnp\u001b[0m\u001b[1;33m.\u001b[0m\u001b[0masarray\u001b[0m\u001b[1;33m(\u001b[0m\u001b[0marray\u001b[0m\u001b[1;33m,\u001b[0m \u001b[0morder\u001b[0m\u001b[1;33m=\u001b[0m\u001b[0morder\u001b[0m\u001b[1;33m,\u001b[0m \u001b[0mdtype\u001b[0m\u001b[1;33m=\u001b[0m\u001b[0mdtype\u001b[0m\u001b[1;33m)\u001b[0m\u001b[1;33m\u001b[0m\u001b[1;33m\u001b[0m\u001b[0m\n\u001b[0m\u001b[0;32m    739\u001b[0m             \u001b[1;32mexcept\u001b[0m \u001b[0mComplexWarning\u001b[0m \u001b[1;32mas\u001b[0m \u001b[0mcomplex_warning\u001b[0m\u001b[1;33m:\u001b[0m\u001b[1;33m\u001b[0m\u001b[1;33m\u001b[0m\u001b[0m\n\u001b[0;32m    740\u001b[0m                 raise ValueError(\n",
      "\u001b[1;31mValueError\u001b[0m: could not convert string to float: '00077R'"
     ]
    }
   ],
   "source": [
    "if 'BANKRUPTCY_FLAG' in list(data_w.columns):\n",
    "    data_w = data_w.rename(columns = {'BANKRUPTCY_FLAG':'Y'}) \n",
    "select_features(data_w)"
   ]
  }
 ],
 "metadata": {
  "kernelspec": {
   "display_name": "Python 3 (ipykernel)",
   "language": "python",
   "name": "python3"
  },
  "language_info": {
   "codemirror_mode": {
    "name": "ipython",
    "version": 3
   },
   "file_extension": ".py",
   "mimetype": "text/x-python",
   "name": "python",
   "nbconvert_exporter": "python",
   "pygments_lexer": "ipython3",
   "version": "3.7.11"
  }
 },
 "nbformat": 4,
 "nbformat_minor": 5
}
