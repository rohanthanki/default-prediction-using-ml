{
 "cells": [
  {
   "cell_type": "code",
   "execution_count": 2,
   "id": "b1a4d049-631a-4c19-835e-a01ba4b3d62b",
   "metadata": {},
   "outputs": [],
   "source": [
    "import numpy as np\n",
    "import pandas as pd"
   ]
  },
  {
   "cell_type": "code",
   "execution_count": 3,
   "id": "ab3e1315-486e-4f09-9c01-3fe6502abe6a",
   "metadata": {},
   "outputs": [
    {
     "name": "stderr",
     "output_type": "stream",
     "text": [
      "C:\\ProgramData\\Anaconda3\\envs\\MFI_Assignment_11\\lib\\site-packages\\IPython\\core\\interactiveshell.py:3444: DtypeWarning: Columns (1,12) have mixed types.Specify dtype option on import or set low_memory=False.\n",
      "  exec(code_obj, self.user_global_ns, self.user_ns)\n"
     ]
    }
   ],
   "source": [
    "data = pd.read_csv('Data/merged_data.csv')"
   ]
  },
  {
   "cell_type": "raw",
   "id": "046b312e-9c3f-4375-a9c4-a11c48b60315",
   "metadata": {},
   "source": [
    "`Investment` = case_when(scf %in% c(1,2,3) ~ capx+ivch+aqc+fuseo-sppe-siv,\n",
    "                         scf == 7 ~ capx+ivch+aqc-sppe-siv-ivstch-ivaco),\n",
    "`Change in Working Capital` = case_when(scf == 1 ~ wcapc+chech+dlcch,\n",
    "                                     scf %in% c(2,3) ~ -wcapc+chech-dlcch,\n",
    "                                     scf == 7 ~ -recch-invch-apalch-txach-aoloch+chech-fiao-dlcch),\n",
    "`Internal Cash Flow` = case_when(scf %in% c(1,2,3) ~ ibc+xidoc+dpc+txdc+esubc+sppiv+fopo+fsrco,\n",
    "                              scf == 7 ~ ibc+xidoc+dpc+txdc+esubc+sppiv+fopo+exre),"
   ]
  },
  {
   "cell_type": "code",
   "execution_count": 7,
   "id": "cce33400-93da-4f42-86f4-8a5602dfe0ea",
   "metadata": {},
   "outputs": [],
   "source": [
    "def compute_features(df_raw):\n",
    "    df = df_raw.copy()\n",
    "    \n",
    "    # Computing quantities\n",
    "    df['Net Assets'] = df['at'] - df['lct']\n",
    "    \n",
    "    # Change these 3\n",
    "    df['Investment'] = np.where(df['scf'].isin([1,2,3]),\n",
    "                                df['capx'] + df['ivch'] + df['aqc'] + df['fuseo'] - df['sppe'] - df['siv'],\n",
    "                                np.where(df['scf'] == 7,df['capx'] + df['ivch'] + df['aqc'] - df['sppe'] - df['siv'] - df['ivstch'] - df['ivaco'],np.nan)\n",
    "                                )\n",
    "    df['Change in Working Capital'] = np.where(df['scf'] == 1,\n",
    "                                               df['wcapc'] + df['chech'] + df['dlcch'],\n",
    "                                               np.where(df['scf'].isin([2,3]),\n",
    "                                                        - df['wcapc'] + df['chech'] + df['dlcch'],\n",
    "                                                        np.where(df['scf'] == 7,\n",
    "                                                                 - df['recch'] - df['invch'] - df['apalch'] - df['txach'] - df['aoloch'] + df['chech'] - df['fiao'] - df['dlcch'],\n",
    "                                                                 np.nan)))\n",
    "    \n",
    "    df['Internal Cash Flow'] = np.where(df['scf'].isin([1,2,3]),\n",
    "                                        df['ibc'] + df['xidoc'] + df['dpc'] + df['txdc'] + df['esubc'] + df['sppiv'] + df['fopo'] + df['fsrco'],\n",
    "                                        np.where(df['scf'] == 7,\n",
    "                                                 df['ibc'] + df['xidoc'] + df['dpc'] + df['txdc'] + df['esubc'] + df['sppiv'] + df['fopo'] + df['exre'],\n",
    "                                                 np.nan))\n",
    "    \n",
    "    \n",
    "    df['Financing Deficit'] = df['dv'] + df['Investment'] - df['Change in Working Capital'] - df['Internal Cash Flow']\n",
    "    df['Net Debt Issued'] = df['dltis'] - df['dltr']\n",
    "    df['Net Equity Issued'] = df['sstk'] - df['prstkc']\n",
    "    df['Net External Financing'] = df['Net Debt Issued'] + df['Net Equity Issued']\n",
    "    df['Total Debt'] = df['dlc'] + df['dltt']\n",
    "    df['Book Capitalization'] = df['Total Debt'] + df['teq']\n",
    "    \n",
    "    df['Current maturity of long-term debt/net assets'] = df['dlc'] / df['Net Assets']\n",
    "    df['Long Term Debt / Total Assets'] = df['dltt'] / df['at']\n",
    "    df['Book Leverage'] = (df['dltt'] + df['dlc'])/(df['dltt'] + df['dlc'] + df['seq'])\n",
    "    df['Cash Dividend / Net Assets'] = df['dv'] / df['Net Assets']\n",
    "    df['Investment / df[Net Assets'] = df['Investment'] / df['Net Assets']\n",
    "    df['Change in Working capital / df[Net Assets'] = df['Change in Working Capital'] / df['Net Assets']\n",
    "    df['Internal Cash Flow / Net Assets'] = df['Internal Cash Flow'] / df['Net Assets']\n",
    "    df['Financing Deficit / Net Assets'] = df['Financing Deficit'] / df['Net Assets']\n",
    "    df['Gross LT Debt Issued / Net Assets'] = df['dltis'] / df['Net Assets']\n",
    "    df['Net Debt Issued / Net Assets'] = df['Net Debt Issued'] / df['Net Assets']\n",
    "    df['Net Equity Issued / Net Assets'] = df['Net Equity Issued'] / df['Net Assets']\n",
    "    df['Net External Financing / Net Assets'] = df['Net External Financing'] / df['Net Assets']\n",
    "    df['Total Debt / Book Capitalization'] = df['Total Debt'] / df['Book Capitalization']\n",
    "    df['Tangibility'] = df['ppent'] / df['at']\n",
    "    df['Market Value of Assets / df[Book Value of Assets'] = df['mkvalt'] / df['at']\n",
    "    df['Log Sales'] = df['sale']\n",
    "    df['Profitability'] = df['ni'] / df['at']\n",
    "    df['Current Ratio'] = df['act'] - df['lct']\n",
    "    df['Quick Ratio'] = (df['che'] + df['rect']) / df['lct']\n",
    "    df['Debt to Equity'] = df['lt'] / df['teq']\n",
    "    df['Interest Burden'] = 1 - (df['xint'] / df['oiadp'])\n",
    "    df['Interest Coverage'] = df['oiadp'] / df['xint']\n",
    "    df['Leverage'] = df['at'] / df['teq']\n",
    "    df['Return on Sales (Profit Margin)'] =  df['oiadp'] / df['sale']\n",
    "    df['Working Capital / Total Assets'] = ( df['act'] - df['lct']) / df['at']\n",
    "    df['Retained Earnings / Total Assets'] =  df['re'] / df['at']\n",
    "    df['Earning Before Interest & Tax / Total Assets'] =  df['oiadp'] / df['at']\n",
    "    df['Market Value of Equity / Total Liabilities'] = ( df['prcc_f']* df['csho']) / df['lt']\n",
    "    df['Sales / Total Assets'] =  df['sale']/ df['at']\n",
    "    \n",
    "    return(df)\n",
    "\n",
    "data_w = compute_features(data)"
   ]
  },
  {
   "cell_type": "code",
   "execution_count": 5,
   "id": "5383b1c8-e78e-4e5f-a9e8-00659b19e2ce",
   "metadata": {},
   "outputs": [],
   "source": [
    "def select_features(df):    \n",
    "    \n",
    "    # Selecting the feature matrix\n",
    "    # X = df[[]].to_numpy()\n",
    "    X = data_w[data_w.columns.difference(['BANKRUPTCY_FLAG'])].to_numpy()  # Change this to subset only the relavant computed colums\n",
    "    y = df['Y'].to_numpy()\n",
    "    \n",
    "    # Standardising the input features\n",
    "    scaler = StandardScaler()\n",
    "    X_scaled = scaler.fit_transform(X)\n",
    "    \n",
    "    # Returning X and y values\n",
    "    return(X_scaled,y)"
   ]
  },
  {
   "cell_type": "code",
   "execution_count": 15,
   "id": "cf32452a-e335-4d60-932f-6ca3484f73bd",
   "metadata": {},
   "outputs": [
    {
     "ename": "KeyError",
     "evalue": "'Y'",
     "output_type": "error",
     "traceback": [
      "\u001b[1;31m---------------------------------------------------------------------------\u001b[0m",
      "\u001b[1;31mKeyError\u001b[0m                                  Traceback (most recent call last)",
      "\u001b[1;32mC:\\ProgramData\\Anaconda3\\envs\\MFI_Assignment_11\\lib\\site-packages\\pandas\\core\\indexes\\base.py\u001b[0m in \u001b[0;36mget_loc\u001b[1;34m(self, key, method, tolerance)\u001b[0m\n\u001b[0;32m   3360\u001b[0m             \u001b[1;32mtry\u001b[0m\u001b[1;33m:\u001b[0m\u001b[1;33m\u001b[0m\u001b[1;33m\u001b[0m\u001b[0m\n\u001b[1;32m-> 3361\u001b[1;33m                 \u001b[1;32mreturn\u001b[0m \u001b[0mself\u001b[0m\u001b[1;33m.\u001b[0m\u001b[0m_engine\u001b[0m\u001b[1;33m.\u001b[0m\u001b[0mget_loc\u001b[0m\u001b[1;33m(\u001b[0m\u001b[0mcasted_key\u001b[0m\u001b[1;33m)\u001b[0m\u001b[1;33m\u001b[0m\u001b[1;33m\u001b[0m\u001b[0m\n\u001b[0m\u001b[0;32m   3362\u001b[0m             \u001b[1;32mexcept\u001b[0m \u001b[0mKeyError\u001b[0m \u001b[1;32mas\u001b[0m \u001b[0merr\u001b[0m\u001b[1;33m:\u001b[0m\u001b[1;33m\u001b[0m\u001b[1;33m\u001b[0m\u001b[0m\n",
      "\u001b[1;32mC:\\ProgramData\\Anaconda3\\envs\\MFI_Assignment_11\\lib\\site-packages\\pandas\\_libs\\index.pyx\u001b[0m in \u001b[0;36mpandas._libs.index.IndexEngine.get_loc\u001b[1;34m()\u001b[0m\n",
      "\u001b[1;32mC:\\ProgramData\\Anaconda3\\envs\\MFI_Assignment_11\\lib\\site-packages\\pandas\\_libs\\index.pyx\u001b[0m in \u001b[0;36mpandas._libs.index.IndexEngine.get_loc\u001b[1;34m()\u001b[0m\n",
      "\u001b[1;32mpandas\\_libs\\hashtable_class_helper.pxi\u001b[0m in \u001b[0;36mpandas._libs.hashtable.PyObjectHashTable.get_item\u001b[1;34m()\u001b[0m\n",
      "\u001b[1;32mpandas\\_libs\\hashtable_class_helper.pxi\u001b[0m in \u001b[0;36mpandas._libs.hashtable.PyObjectHashTable.get_item\u001b[1;34m()\u001b[0m\n",
      "\u001b[1;31mKeyError\u001b[0m: 'Y'",
      "\nThe above exception was the direct cause of the following exception:\n",
      "\u001b[1;31mKeyError\u001b[0m                                  Traceback (most recent call last)",
      "\u001b[1;32m~\\AppData\\Local\\Temp/ipykernel_2612/11552152.py\u001b[0m in \u001b[0;36m<module>\u001b[1;34m\u001b[0m\n\u001b[1;32m----> 1\u001b[1;33m \u001b[0mselect_features\u001b[0m\u001b[1;33m(\u001b[0m\u001b[0mdata_w\u001b[0m\u001b[1;33m)\u001b[0m\u001b[1;33m\u001b[0m\u001b[1;33m\u001b[0m\u001b[0m\n\u001b[0m",
      "\u001b[1;32m~\\AppData\\Local\\Temp/ipykernel_2612/4016886794.py\u001b[0m in \u001b[0;36mselect_features\u001b[1;34m(df)\u001b[0m\n\u001b[0;32m      3\u001b[0m     \u001b[1;31m# Selecting the feature matrix\u001b[0m\u001b[1;33m\u001b[0m\u001b[1;33m\u001b[0m\u001b[1;33m\u001b[0m\u001b[0m\n\u001b[0;32m      4\u001b[0m     \u001b[0mX\u001b[0m \u001b[1;33m=\u001b[0m \u001b[0mdf\u001b[0m\u001b[1;33m[\u001b[0m\u001b[1;33m[\u001b[0m\u001b[1;33m]\u001b[0m\u001b[1;33m]\u001b[0m\u001b[1;33m.\u001b[0m\u001b[0mto_numpy\u001b[0m\u001b[1;33m(\u001b[0m\u001b[1;33m)\u001b[0m\u001b[1;33m\u001b[0m\u001b[1;33m\u001b[0m\u001b[0m\n\u001b[1;32m----> 5\u001b[1;33m     \u001b[0my\u001b[0m \u001b[1;33m=\u001b[0m \u001b[0mdf\u001b[0m\u001b[1;33m[\u001b[0m\u001b[1;34m'Y'\u001b[0m\u001b[1;33m]\u001b[0m\u001b[1;33m.\u001b[0m\u001b[0mto_numpy\u001b[0m\u001b[1;33m(\u001b[0m\u001b[1;33m)\u001b[0m\u001b[1;33m\u001b[0m\u001b[1;33m\u001b[0m\u001b[0m\n\u001b[0m\u001b[0;32m      6\u001b[0m \u001b[1;33m\u001b[0m\u001b[0m\n\u001b[0;32m      7\u001b[0m     \u001b[1;31m# Standardising the input features\u001b[0m\u001b[1;33m\u001b[0m\u001b[1;33m\u001b[0m\u001b[1;33m\u001b[0m\u001b[0m\n",
      "\u001b[1;32mC:\\ProgramData\\Anaconda3\\envs\\MFI_Assignment_11\\lib\\site-packages\\pandas\\core\\frame.py\u001b[0m in \u001b[0;36m__getitem__\u001b[1;34m(self, key)\u001b[0m\n\u001b[0;32m   3456\u001b[0m             \u001b[1;32mif\u001b[0m \u001b[0mself\u001b[0m\u001b[1;33m.\u001b[0m\u001b[0mcolumns\u001b[0m\u001b[1;33m.\u001b[0m\u001b[0mnlevels\u001b[0m \u001b[1;33m>\u001b[0m \u001b[1;36m1\u001b[0m\u001b[1;33m:\u001b[0m\u001b[1;33m\u001b[0m\u001b[1;33m\u001b[0m\u001b[0m\n\u001b[0;32m   3457\u001b[0m                 \u001b[1;32mreturn\u001b[0m \u001b[0mself\u001b[0m\u001b[1;33m.\u001b[0m\u001b[0m_getitem_multilevel\u001b[0m\u001b[1;33m(\u001b[0m\u001b[0mkey\u001b[0m\u001b[1;33m)\u001b[0m\u001b[1;33m\u001b[0m\u001b[1;33m\u001b[0m\u001b[0m\n\u001b[1;32m-> 3458\u001b[1;33m             \u001b[0mindexer\u001b[0m \u001b[1;33m=\u001b[0m \u001b[0mself\u001b[0m\u001b[1;33m.\u001b[0m\u001b[0mcolumns\u001b[0m\u001b[1;33m.\u001b[0m\u001b[0mget_loc\u001b[0m\u001b[1;33m(\u001b[0m\u001b[0mkey\u001b[0m\u001b[1;33m)\u001b[0m\u001b[1;33m\u001b[0m\u001b[1;33m\u001b[0m\u001b[0m\n\u001b[0m\u001b[0;32m   3459\u001b[0m             \u001b[1;32mif\u001b[0m \u001b[0mis_integer\u001b[0m\u001b[1;33m(\u001b[0m\u001b[0mindexer\u001b[0m\u001b[1;33m)\u001b[0m\u001b[1;33m:\u001b[0m\u001b[1;33m\u001b[0m\u001b[1;33m\u001b[0m\u001b[0m\n\u001b[0;32m   3460\u001b[0m                 \u001b[0mindexer\u001b[0m \u001b[1;33m=\u001b[0m \u001b[1;33m[\u001b[0m\u001b[0mindexer\u001b[0m\u001b[1;33m]\u001b[0m\u001b[1;33m\u001b[0m\u001b[1;33m\u001b[0m\u001b[0m\n",
      "\u001b[1;32mC:\\ProgramData\\Anaconda3\\envs\\MFI_Assignment_11\\lib\\site-packages\\pandas\\core\\indexes\\base.py\u001b[0m in \u001b[0;36mget_loc\u001b[1;34m(self, key, method, tolerance)\u001b[0m\n\u001b[0;32m   3361\u001b[0m                 \u001b[1;32mreturn\u001b[0m \u001b[0mself\u001b[0m\u001b[1;33m.\u001b[0m\u001b[0m_engine\u001b[0m\u001b[1;33m.\u001b[0m\u001b[0mget_loc\u001b[0m\u001b[1;33m(\u001b[0m\u001b[0mcasted_key\u001b[0m\u001b[1;33m)\u001b[0m\u001b[1;33m\u001b[0m\u001b[1;33m\u001b[0m\u001b[0m\n\u001b[0;32m   3362\u001b[0m             \u001b[1;32mexcept\u001b[0m \u001b[0mKeyError\u001b[0m \u001b[1;32mas\u001b[0m \u001b[0merr\u001b[0m\u001b[1;33m:\u001b[0m\u001b[1;33m\u001b[0m\u001b[1;33m\u001b[0m\u001b[0m\n\u001b[1;32m-> 3363\u001b[1;33m                 \u001b[1;32mraise\u001b[0m \u001b[0mKeyError\u001b[0m\u001b[1;33m(\u001b[0m\u001b[0mkey\u001b[0m\u001b[1;33m)\u001b[0m \u001b[1;32mfrom\u001b[0m \u001b[0merr\u001b[0m\u001b[1;33m\u001b[0m\u001b[1;33m\u001b[0m\u001b[0m\n\u001b[0m\u001b[0;32m   3364\u001b[0m \u001b[1;33m\u001b[0m\u001b[0m\n\u001b[0;32m   3365\u001b[0m         \u001b[1;32mif\u001b[0m \u001b[0mis_scalar\u001b[0m\u001b[1;33m(\u001b[0m\u001b[0mkey\u001b[0m\u001b[1;33m)\u001b[0m \u001b[1;32mand\u001b[0m \u001b[0misna\u001b[0m\u001b[1;33m(\u001b[0m\u001b[0mkey\u001b[0m\u001b[1;33m)\u001b[0m \u001b[1;32mand\u001b[0m \u001b[1;32mnot\u001b[0m \u001b[0mself\u001b[0m\u001b[1;33m.\u001b[0m\u001b[0mhasnans\u001b[0m\u001b[1;33m:\u001b[0m\u001b[1;33m\u001b[0m\u001b[1;33m\u001b[0m\u001b[0m\n",
      "\u001b[1;31mKeyError\u001b[0m: 'Y'"
     ]
    }
   ],
   "source": [
    "data_w.rename(columns = {'BANKRUPTCY_FLAG':'Y'}) if 'BANKRUPTCY_FLAG' in list(data_w.columns)\n",
    "select_features()"
   ]
  }
 ],
 "metadata": {
  "kernelspec": {
   "display_name": "Python 3 (ipykernel)",
   "language": "python",
   "name": "python3"
  },
  "language_info": {
   "codemirror_mode": {
    "name": "ipython",
    "version": 3
   },
   "file_extension": ".py",
   "mimetype": "text/x-python",
   "name": "python",
   "nbconvert_exporter": "python",
   "pygments_lexer": "ipython3",
   "version": "3.7.11"
  }
 },
 "nbformat": 4,
 "nbformat_minor": 5
}
