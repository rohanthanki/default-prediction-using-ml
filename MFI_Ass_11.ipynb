{
 "cells": [
  {
   "cell_type": "code",
   "execution_count": 103,
   "id": "b1a4d049-631a-4c19-835e-a01ba4b3d62b",
   "metadata": {},
   "outputs": [],
   "source": [
    "import numpy as np\n",
    "import pandas as pd\n",
    "from sklearn.preprocessing import StandardScaler\n",
    "\n",
    "from sklearn.linear_model import LogisticRegression\n",
    "from sklearn.model_selection import GridSearchCV\n",
    "from sklearn.metrics import classification_report\n",
    "from sklearn.metrics import *\n",
    "from sklearn.linear_model import LassoCV\n",
    "from sklearn.linear_model import Ridge\n",
    "from sklearn.neighbors import KNeighborsClassifier\n",
    "from sklearn import preprocessing\n",
    "\n",
    "import matplotlib.pyplot as plt\n",
    "\n",
    "pd.options.mode.use_inf_as_na = True"
   ]
  },
  {
   "cell_type": "code",
   "execution_count": 2,
   "id": "ab3e1315-486e-4f09-9c01-3fe6502abe6a",
   "metadata": {},
   "outputs": [],
   "source": [
    "data = pd.read_csv('Data/merged_data.csv')"
   ]
  },
  {
   "cell_type": "code",
   "execution_count": 3,
   "id": "cce33400-93da-4f42-86f4-8a5602dfe0ea",
   "metadata": {},
   "outputs": [],
   "source": [
    "def compute_features(df_raw):\n",
    "    df = df_raw.copy()\n",
    "\n",
    "    df['adv_sale']=df['xad']/df['sale']\n",
    "    df['aftret_eq']=df['ni']/df['ceq']\n",
    "    df['aftret_equity']=df['ni']/df['teq']\n",
    "    df['aftret_invcapx']=df['ni']/df['icapt']\n",
    "    df['at_turn']=df['sale']/df['at']\n",
    "    df['bm']=df['teq']/df['mkvalt']\n",
    "    df['cash_debt']=(df['ivncf']+df['oancf']+df['fincf'])/(df['dltt']+df['dlc'])\n",
    "    df['cash_lt']=(df['ch'])/df['lt']\n",
    "    df['cash_ratio']=df['che']/df['lct']\n",
    "    df['cfm']=df['oancf']/df['sale']\n",
    "    df['curr_debt']=df['lct']/df['lt']\n",
    "    df['curr_ratio']=df['act']/df['lct']\n",
    "    df['de_ratio']=(df['dltt']+df['dlc'])/df['teq']\n",
    "    df['debt_assets']=(df['dltt']+df['dlc'])/df['at']\n",
    "    df['debt_capital']=(df['dltt']+df['dlc'])/(df['dltt']+df['dlc']+df['teq'])\n",
    "    df['debt_ebitda']=(df['dltt']+df['dlc'])/df['ebitda']\n",
    "    df['debt_invcap']=df['dltt']/df['icapt']\n",
    "    df['dltt_be']=df['dltt']/df['teq']\n",
    "    df['equity_invcap']=df['ceq']/df['icapt']\n",
    "    df['evm']=(df['mkvalt']+df['dltt']+df['dlc']-df['ceq'])/df['ebitda']\n",
    "    df['gpm']=df['gp']/df['sale']\n",
    "    df['GProf']=df['gp']/df['at']\n",
    "    # df['int_totdebt']=(df['intpn']-df['niint'])/(df['dltt']+df['dlc'])\n",
    "    # df['intcov']=(df['ni']+df['intpn']-df['niint'])/df['intpn']\n",
    "    df['intcov_ratio']=df['ebit']/df['intpn']\n",
    "    df['inv_turn']=df['cogs']/df['invt']\n",
    "    df['invt_act']=df['invt']/df['act']\n",
    "    df['lt_debt']=df['dltt']/df['lt']\n",
    "    df['lt_ppent']=df['lt']/(df['at']-df['intan'])\n",
    "    df['npm']=df['ni']/df['sale']\n",
    "    df['ocf_lct']=df['oancf']/df['lct']\n",
    "    df['opmad']=df['ebit']/df['sale']\n",
    "    df['opmbd']=df['ebitda']/df['sale']\n",
    "    df['pcf']=df['prcc_f']/(df['ivncf']+df['oancf']+df['fincf'])\n",
    "    df['pretret_noa']=df['pi']/(df['at']-df['ch']-df['lt']+df['dltt']+df['dlc'])\n",
    "    df['profit_lct']=df['ebitda']/df['lct']\n",
    "    df['ps']=df['prcc_f']/df['sale']\n",
    "    df['ptb']=df['prcc_f']/df['teq']\n",
    "    df['ptpm']=df['pi']/df['sale']\n",
    "    df['quick_ratio']=(df['che']+df['rect'])/df['lct']\n",
    "    df['RD_SALE']=df['xrd']/df['sale']\n",
    "    df['rect_act']=df['rect']/df['act']\n",
    "    df['rect_turn']=df['sale']/df['rect']\n",
    "    df['roa']=df['ni']/df['at']\n",
    "    df['roe']=df['ni']/df['teq']\n",
    "    df['sale_equity']=df['sale']/df['teq']\n",
    "    df['sale_invcap']=df['sale']/df['icapt']\n",
    "    df['short_debt']=df['dlc']/(df['dltt']+df['dlc'])\n",
    "    # df['staff_sale']=df['xstfws']/df['sale']\n",
    "    df['totdebt_invcap']=(df['dltt']+df['dlc'])/df['icapt']\n",
    "    \n",
    "    return(df)\n",
    "\n",
    "data_w = compute_features(data)"
   ]
  },
  {
   "cell_type": "code",
   "execution_count": 162,
   "id": "5383b1c8-e78e-4e5f-a9e8-00659b19e2ce",
   "metadata": {},
   "outputs": [],
   "source": [
    "def select_features(df):\n",
    "    \n",
    "    # Selecting the feature matrix\n",
    "    X = df[df.columns.difference(['Y','CUSIP'])].to_numpy()\n",
    "    y = df['Y'].to_numpy()\n",
    "    \n",
    "    # Standardising the input features\n",
    "    scaler = StandardScaler()\n",
    "    X_scaled = scaler.fit_transform(X)\n",
    "    \n",
    "    X_scaled = np.insert(X_scaled, 0, df['CUSIP'].to_numpy(), axis = 1)\n",
    "    \n",
    "    # Returning X and y values\n",
    "    return(X_scaled,y)"
   ]
  },
  {
   "cell_type": "code",
   "execution_count": 164,
   "id": "957cc43c-3e3a-413a-b174-da75129ad72b",
   "metadata": {},
   "outputs": [
    {
     "name": "stdout",
     "output_type": "stream",
     "text": [
      "   YEAR  adv_sale  aftret_eq  aftret_equity  aftret_invcapx   at_turn  \\\n",
      "0  1992  0.005247   0.432293       0.234489        0.204967  2.357593   \n",
      "1  1993  0.005247   0.419685       0.234489        0.250682  1.884898   \n",
      "2  1994  0.005247   0.445075       0.234489        0.230721  2.442786   \n",
      "3  1995  0.005247   0.152739       0.234489        0.085351  2.090712   \n",
      "4  1996  0.005247   0.132673       0.234489        0.084295  1.766848   \n",
      "\n",
      "         bm     cash_debt   cash_lt  cash_ratio  ...  rect_act  rect_turn  \\\n",
      "0  0.259451 -2.547981e-08  0.005408    0.008449  ...  0.444935   8.967304   \n",
      "1  0.259451  3.962685e-09  0.006372    0.008493  ...  0.511537   5.594528   \n",
      "2  0.259451 -7.510359e-09  0.001232    0.002487  ...  0.500400   6.685325   \n",
      "3  0.259451  5.473919e-08  0.035519    0.083177  ...  0.465554   6.839935   \n",
      "4  0.259451 -5.790228e-08  0.006925    0.012599  ...  0.550791   4.641776   \n",
      "\n",
      "        roa       roe  sale_equity  sale_invcap  short_debt  totdebt_invcap  \\\n",
      "0  0.101433  0.234489     2.488766     4.764025    0.549195    1.166495e+06   \n",
      "1  0.110659  0.234489     2.488766     4.269965    0.646578    1.139404e+06   \n",
      "2  0.156655  0.234489     2.488766     3.597720    0.080801    5.239495e+05   \n",
      "3  0.064231  0.234489     2.488766     2.778186    0.080949    4.800545e+05   \n",
      "4  0.058337  0.234489     2.488766     2.553014    0.010036    3.683377e+05   \n",
      "\n",
      "     Y  CUSIP  \n",
      "0  0.0      0  \n",
      "1  0.0      0  \n",
      "2  0.0      0  \n",
      "3  0.0      0  \n",
      "4  0.0      0  \n",
      "\n",
      "[5 rows x 50 columns]\n"
     ]
    }
   ],
   "source": [
    "def fill_na_df(df):\n",
    "    df = df.sort_values(by='YEAR')\n",
    "    df = df.fillna(method=\"ffill\").fillna(method=\"bfill\")\n",
    "    df['Y'] = df['Y'].shift(1)\n",
    "    df = df.dropna()\n",
    "    return df\n",
    "\n",
    "def get_raw_data(data_w):\n",
    "    if 'BANKRUPTCY_FLAG' in list(data_w.columns):\n",
    "        data_w = data_w.rename(columns = {'BANKRUPTCY_FLAG':'Y'}) \n",
    "\n",
    "        columns = ['YEAR','adv_sale','aftret_eq','aftret_equity','aftret_invcapx','at_turn','bm','cash_debt','cash_lt','cash_ratio','cfm','curr_debt','curr_ratio','de_ratio','debt_assets','debt_capital','debt_ebitda','debt_invcap','dltt_be','equity_invcap','evm','gpm','GProf','intcov_ratio','inv_turn','invt_act','lt_debt','lt_ppent','npm','ocf_lct','opmad','opmbd','pcf','pretret_noa','profit_lct','ps','ptb','ptpm','quick_ratio','RD_SALE','rect_act','rect_turn','roa','roe','sale_equity','sale_invcap','short_debt','totdebt_invcap']\n",
    "        columns.append('Y')\n",
    "        data_w[columns] = data_w[columns].apply(pd.to_numeric)\n",
    "        columns.append('CUSIP')\n",
    "        d = data_w[columns].groupby(['CUSIP']).apply(fill_na_df).dropna().reset_index(drop=True)\n",
    "        \n",
    "        le = preprocessing.LabelEncoder()\n",
    "        le.fit(d['CUSIP'].unique())\n",
    "        d['CUSIP'] = le.transform(d['CUSIP'])\n",
    "        return d\n",
    "\n",
    "d = get_raw_data(data_w)\n",
    "print(d.head())"
   ]
  },
  {
   "cell_type": "code",
   "execution_count": 171,
   "id": "ccba93f8-1f42-44e0-892e-081368a80c0e",
   "metadata": {},
   "outputs": [],
   "source": [
    "def train_logistic_reg(X,y, class_weight='balanced', scoring='recall'):\n",
    "    logistic_regression_hparams = {\n",
    "        'penalty' : ['l1','l2'],\n",
    "        'C' : [0.01,0.033,0.1, 0.2, 0.5, 1]\n",
    "    }\n",
    "\n",
    "    cv_param = None\n",
    "    clf_logistic = GridSearchCV(LogisticRegression(random_state=42,\n",
    "                                                   solver='liblinear',\n",
    "                                                   max_iter=100,\n",
    "                                                   # class_weight={0:1,1:50}\n",
    "                                                   class_weight=class_weight\n",
    "                                                  ), \n",
    "                                param_grid=logistic_regression_hparams,\n",
    "                                # scoring='f1',\n",
    "                                scoring=scoring,\n",
    "                                cv=cv_param,\n",
    "                                n_jobs=-1\n",
    "                               )\n",
    "    clf_logistic.fit(X, y)\n",
    "    print(f\"Best Params:{clf_logistic.best_params_}\")\n",
    "    return clf_logistic\n",
    "\n",
    "def get_reg_scores(clf,X_test, y_test):\n",
    "    y_pred = clf.predict(X_test)\n",
    "    # print(f\"Classification score:{classification_report(y_test, y_pred)}\")\n",
    "    print(f\"Accuracy score:{accuracy_score(y_test, y_pred)}\")\n",
    "    print(f\"ROC AUC score:{roc_auc_score(y_test, y_pred)}\")\n",
    "    print(f\"F1 score:{f1_score(y_test, y_pred)}\")\n",
    "    print(f\"Precision Score:{precision_score(y_test, y_pred)}\")\n",
    "    print(f\"Recall Score:{recall_score(y_test, y_pred)}\")\n",
    "    print(f\"Confusion Martix:\\n{confusion_matrix(y_test, y_pred)}\")\n",
    "    \n",
    "    prob_predicted = pd.DataFrame(clf.predict_proba(X_test))\n",
    "    prob_predicted.columns = ['prob_no_bankruptcy','prob_bankruptcy']\n",
    "    # print(f\"Predicted Probability:\\n{prob_predicted}\")\n",
    "    \n",
    "    prob_predicted['decile'] = pd.qcut(prob_predicted['prob_bankruptcy'], q=10, labels = range(1,11))\n",
    "    print(f\"Predicted Probability Deciles:\\n{prob_predicted}\")\n",
    "    \n",
    "    fpr, tpr, _ = roc_curve(y_test, y_pred)\n",
    "    roc_auc = roc_auc_score(y_test, y_pred)\n",
    "    plt.plot(fpr,tpr,label=\"Area under Curve: \"+ str(roc_auc))\n",
    "    plt.plot([0, 1], [0, 1], color='red', linestyle='--')\n",
    "    plt.legend(loc=4)\n",
    "    plt.xlabel('False Positive (%)')\n",
    "    plt.ylabel('True Positive (%)')\n",
    "    plt.title('Forcasting 1991-2019 using 1964-1990 data')\n",
    "    plt.show()\n",
    "\n",
    "    print('#'*20)\n",
    "    print()\n",
    "    "
   ]
  },
  {
   "cell_type": "markdown",
   "id": "a2781788-1126-4a89-bea5-a3282e33de6b",
   "metadata": {},
   "source": [
    "## Train and test for in sample data"
   ]
  },
  {
   "cell_type": "code",
   "execution_count": 172,
   "id": "251db0d8-da8c-4f9b-bb22-b896bc93291b",
   "metadata": {},
   "outputs": [
    {
     "name": "stdout",
     "output_type": "stream",
     "text": [
      "Best Params:{'C': 0.01, 'penalty': 'l1'}\n",
      "Accuracy score:0.6636292500694146\n",
      "ROC AUC score:0.6722299291855531\n",
      "F1 score:0.004779686333084392\n",
      "Precision Score:0.002398261260586075\n",
      "Recall Score:0.6808510638297872\n",
      "Confusion Martix:\n",
      "[[26259 13311]\n",
      " [   15    32]]\n",
      "Predicted Probability Deciles:\n",
      "       prob_no_bankruptcy  prob_bankruptcy decile\n",
      "0                0.648643         0.351357      4\n",
      "1                0.716263         0.283737      3\n",
      "2                0.623899         0.376101      5\n",
      "3                0.567869         0.432131      6\n",
      "4                0.606842         0.393158      5\n",
      "...                   ...              ...    ...\n",
      "39612            0.123543         0.876457     10\n",
      "39613            0.163529         0.836471     10\n",
      "39614            0.226012         0.773988     10\n",
      "39615            0.237673         0.762327     10\n",
      "39616            0.644947         0.355053      4\n",
      "\n",
      "[39617 rows x 3 columns]\n"
     ]
    },
    {
     "data": {
      "image/png": "[encoded data removed]",
      "text/plain": [
       "<Figure size 432x288 with 1 Axes>"
      ]
     },
     "metadata": {
      "needs_background": "light"
     },
     "output_type": "display_data"
    },
    {
     "name": "stdout",
     "output_type": "stream",
     "text": [
      "####################\n",
      "\n"
     ]
    }
   ],
   "source": [
    "d1 = d.drop(['YEAR'], axis=1)\n",
    "X, y = select_features(d1)\n",
    "# No train test split is needed for in sample data\n",
    "# X_train, X_test, y_train, y_test = train_test_split(X, y, test_size=0.2, random_state=42)\n",
    "clf = train_logistic_reg(X,y,scoring='f1')\n",
    "get_reg_scores(clf, X, y)"
   ]
  },
  {
   "cell_type": "markdown",
   "id": "3810430f-c85a-4dd5-88d1-8f4d038b5897",
   "metadata": {},
   "source": [
    "## Train and test for out of sample period"
   ]
  },
  {
   "cell_type": "code",
   "execution_count": 167,
   "id": "49cb1053-6a98-4e84-999c-8c0149f937a4",
   "metadata": {},
   "outputs": [
    {
     "name": "stdout",
     "output_type": "stream",
     "text": [
      "Best Params:{'C': 0.033, 'penalty': 'l1'}\n",
      "Classification score:              precision    recall  f1-score   support\n",
      "\n",
      "         0.0       1.00      0.88      0.93     32215\n",
      "         1.0       0.00      0.25      0.00        36\n",
      "\n",
      "    accuracy                           0.88     32251\n",
      "   macro avg       0.50      0.56      0.47     32251\n",
      "weighted avg       1.00      0.88      0.93     32251\n",
      "\n",
      "Accuracy score:0.8765309602803014\n",
      "ROC AUC score:0.5636155517616017\n",
      "F1 score:0.0045000000000000005\n",
      "Precision Score:0.002270433905146317\n",
      "Recall Score:0.25\n",
      "Confusion Martix:\n",
      "[[28260  3955]\n",
      " [   27     9]]\n",
      "Predicted Probability Deciles:\n",
      "       prob_no_bankruptcy  prob_bankruptcy decile\n",
      "0                0.963867         0.036133      4\n",
      "1                0.986629         0.013371      2\n",
      "2                0.922918         0.077082      5\n",
      "3                0.872894         0.127106      6\n",
      "4                0.930800         0.069200      5\n",
      "...                   ...              ...    ...\n",
      "32246            0.024673         0.975327     10\n",
      "32247            0.024452         0.975548     10\n",
      "32248            0.142110         0.857890     10\n",
      "32249            0.146672         0.853328     10\n",
      "32250            0.926613         0.073387      5\n",
      "\n",
      "[32251 rows x 3 columns]\n"
     ]
    },
    {
     "data": {
      "image/png": "[encoded data removed]",
      "text/plain": [
       "<Figure size 432x288 with 1 Axes>"
      ]
     },
     "metadata": {
      "needs_background": "light"
     },
     "output_type": "display_data"
    },
    {
     "name": "stdout",
     "output_type": "stream",
     "text": [
      "####################\n",
      "\n"
     ]
    }
   ],
   "source": [
    "# In sample training data\n",
    "d_train = d[d['YEAR'] <= 1990]\n",
    "# Out of sample test data\n",
    "d_test = d[d['YEAR'] > 1990]\n",
    "\n",
    "# Train the model\n",
    "d1 = d_train.drop(['YEAR'], axis=1)\n",
    "X, y = select_features(d1)\n",
    "class_weight = {0:1, 1:int(np.count_nonzero(y == 0) / np.count_nonzero(y == 1))}\n",
    "clf = train_logistic_reg(X,y, class_weight)\n",
    "\n",
    "# Use test data to test the classifier\n",
    "d1 = d_test.drop(['YEAR'], axis=1)\n",
    "X, y = select_features(d1)\n",
    "get_reg_scores(clf, X, y)"
   ]
  },
  {
   "cell_type": "markdown",
   "id": "9a245cb4-3dde-4154-9249-9fa2a0382af5",
   "metadata": {},
   "source": [
    "## Lasso Regression"
   ]
  },
  {
   "cell_type": "code",
   "execution_count": 80,
   "id": "2d5bffaa-ea07-4114-ac5d-ff408c5143a2",
   "metadata": {},
   "outputs": [
    {
     "name": "stderr",
     "output_type": "stream",
     "text": [
      "C:\\ProgramData\\Anaconda3\\envs\\MFI_Assignment_11\\lib\\site-packages\\sklearn\\linear_model\\_coordinate_descent.py:644: ConvergenceWarning: Objective did not converge. You might want to increase the number of iterations. Duality gap: 0.0078952359634048, tolerance: 0.0006991683638832311\n",
      "  positive,\n",
      "C:\\ProgramData\\Anaconda3\\envs\\MFI_Assignment_11\\lib\\site-packages\\sklearn\\linear_model\\_coordinate_descent.py:644: ConvergenceWarning: Objective did not converge. You might want to increase the number of iterations. Duality gap: 0.011782626765540982, tolerance: 0.0006991683638832311\n",
      "  positive,\n",
      "C:\\ProgramData\\Anaconda3\\envs\\MFI_Assignment_11\\lib\\site-packages\\sklearn\\linear_model\\_coordinate_descent.py:644: ConvergenceWarning: Objective did not converge. You might want to increase the number of iterations. Duality gap: 0.013222525086191261, tolerance: 0.0006991683638832311\n",
      "  positive,\n",
      "C:\\ProgramData\\Anaconda3\\envs\\MFI_Assignment_11\\lib\\site-packages\\sklearn\\linear_model\\_coordinate_descent.py:644: ConvergenceWarning: Objective did not converge. You might want to increase the number of iterations. Duality gap: 0.008645596538103817, tolerance: 0.0006991683638832311\n",
      "  positive,\n",
      "C:\\ProgramData\\Anaconda3\\envs\\MFI_Assignment_11\\lib\\site-packages\\sklearn\\linear_model\\_coordinate_descent.py:644: ConvergenceWarning: Objective did not converge. You might want to increase the number of iterations. Duality gap: 0.0078952359634048, tolerance: 0.0006991683638832311\n",
      "  positive,\n",
      "C:\\ProgramData\\Anaconda3\\envs\\MFI_Assignment_11\\lib\\site-packages\\sklearn\\linear_model\\_coordinate_descent.py:644: ConvergenceWarning: Objective did not converge. You might want to increase the number of iterations. Duality gap: 0.011782626765540982, tolerance: 0.0006991683638832311\n",
      "  positive,\n",
      "C:\\ProgramData\\Anaconda3\\envs\\MFI_Assignment_11\\lib\\site-packages\\sklearn\\linear_model\\_coordinate_descent.py:644: ConvergenceWarning: Objective did not converge. You might want to increase the number of iterations. Duality gap: 0.013222525086191261, tolerance: 0.0006991683638832311\n",
      "  positive,\n",
      "C:\\ProgramData\\Anaconda3\\envs\\MFI_Assignment_11\\lib\\site-packages\\sklearn\\linear_model\\_coordinate_descent.py:644: ConvergenceWarning: Objective did not converge. You might want to increase the number of iterations. Duality gap: 0.008645596538103817, tolerance: 0.0006991683638832311\n",
      "  positive,\n"
     ]
    },
    {
     "name": "stdout",
     "output_type": "stream",
     "text": [
      "Non zero coefficients:['lt_ppent', 'ocf_lct']\n",
      "Best Params:{'C': 0.01, 'penalty': 'l2'}\n",
      "Classification score:              precision    recall  f1-score   support\n",
      "\n",
      "         0.0       1.00      0.98      0.99     32215\n",
      "         1.0       0.00      0.03      0.00        36\n",
      "\n",
      "    accuracy                           0.97     32251\n",
      "   macro avg       0.50      0.50      0.49     32251\n",
      "weighted avg       1.00      0.97      0.99     32251\n",
      "\n",
      "Accuracy score:0.9739853027813091\n",
      "ROC AUC score:0.5014102298791108\n",
      "F1 score:0.0023781212841854937\n",
      "Precision Score:0.0012422360248447205\n",
      "Recall Score:0.027777777777777776\n",
      "Confusion Martix:\n",
      "[[31411   804]\n",
      " [   35     1]]\n",
      "Predicted Probability Deciles:\n",
      "       prob_no_bankruptcy  prob_bankruptcy decile\n",
      "0                0.646877         0.353123      9\n",
      "1                0.649416         0.350584      8\n",
      "2                0.663063         0.336937      6\n",
      "3                0.681115         0.318885      3\n",
      "4                0.669604         0.330396      5\n",
      "...                   ...              ...    ...\n",
      "32246            0.623588         0.376412     10\n",
      "32247            0.613943         0.386057     10\n",
      "32248            0.651381         0.348619      8\n",
      "32249            0.653537         0.346463      8\n",
      "32250            0.649417         0.350583      8\n",
      "\n",
      "[32251 rows x 3 columns]\n"
     ]
    },
    {
     "data": {
      "image/png": "[encoded data removed]",
      "text/plain": [
       "<Figure size 432x288 with 1 Axes>"
      ]
     },
     "metadata": {
      "needs_background": "light"
     },
     "output_type": "display_data"
    },
    {
     "name": "stdout",
     "output_type": "stream",
     "text": [
      "####################\n",
      "\n"
     ]
    }
   ],
   "source": [
    "# Run Lasso for feature selection\n",
    "d_train = d[d['YEAR'] <= 1990]\n",
    "# Out of sample test data\n",
    "d_test = d[d['YEAR'] > 1990]\n",
    "\n",
    "# Train the model\n",
    "d1 = d_train.drop(['YEAR','CUSIP'], axis=1)\n",
    "X, y = select_features(d1)\n",
    "\n",
    "reg = LassoCV(cv=5, random_state=42, max_iter=10000)\n",
    "reg.fit(X, y)\n",
    "coef = pd.Series(reg.coef_, index = d1[d1.columns.difference(['Y'])].columns)\n",
    "\n",
    "cols = list(coef[coef != 0].index)\n",
    "\n",
    "print(f\"Non zero coefficients:{cols}\")\n",
    "cols.append('Y')\n",
    "\n",
    "X, y = select_features(d1[cols])\n",
    "clf = train_logistic_reg(X,y)\n",
    "\n",
    "d1 = d_test.drop(['YEAR','CUSIP'], axis=1)\n",
    "X, y = select_features(d1[cols])\n",
    "get_reg_scores(clf, X, y)\n"
   ]
  },
  {
   "cell_type": "code",
   "execution_count": 174,
   "id": "27e96c92-efe0-490d-8b4b-869f56ad4311",
   "metadata": {},
   "outputs": [
    {
     "data": {
      "text/plain": [
       "array(['0123'], dtype='<U4')"
      ]
     },
     "execution_count": 174,
     "metadata": {},
     "output_type": "execute_result"
    }
   ],
   "source": [
    "le = preprocessing.LabelEncoder()\n",
    "le.fit(['0123','2345'])\n",
    "le.transform(['0123','2345','0123','0123'])\n",
    "le.inverse_transform([0])"
   ]
  },
  {
   "cell_type": "markdown",
   "id": "d530459c-b06f-4772-85e1-fd73a5a11d81",
   "metadata": {},
   "source": [
    "## Ridge Regression"
   ]
  },
  {
   "cell_type": "code",
   "execution_count": 83,
   "id": "1266369f-a570-4276-b288-630250f54f78",
   "metadata": {},
   "outputs": [],
   "source": [
    "def train_ridge_reg(X,y, class_weight='balanced'):\n",
    "    hparams = {\n",
    "        'alpha' : [0.1, 1, 10]\n",
    "    }\n",
    "\n",
    "    cv_param = None\n",
    "    clf = GridSearchCV(Ridge(solver='auto'), \n",
    "                                param_grid=hparams,\n",
    "                                # scoring='f1',\n",
    "                                scoring='recall',\n",
    "                                cv=cv_param,\n",
    "                                n_jobs=-1\n",
    "                               )\n",
    "    clf.fit(X, y)\n",
    "    print(f\"Best Params:{clf.best_params_}\")\n",
    "    return clf"
   ]
  },
  {
   "cell_type": "code",
   "execution_count": 98,
   "id": "2c84e1fc-9c03-4de5-9d16-61a9a30c06b7",
   "metadata": {},
   "outputs": [
    {
     "name": "stdout",
     "output_type": "stream",
     "text": [
      "Best Params:{'alpha': 0.1}\n"
     ]
    },
    {
     "name": "stderr",
     "output_type": "stream",
     "text": [
      "C:\\ProgramData\\Anaconda3\\envs\\MFI_Assignment_11\\lib\\site-packages\\sklearn\\model_selection\\_search.py:972: UserWarning: One or more of the test scores are non-finite: [nan nan nan]\n",
      "  category=UserWarning,\n"
     ]
    },
    {
     "ename": "ValueError",
     "evalue": "Classification metrics can't handle a mix of binary and continuous targets",
     "output_type": "error",
     "traceback": [
      "\u001b[1;31m---------------------------------------------------------------------------\u001b[0m",
      "\u001b[1;31mValueError\u001b[0m                                Traceback (most recent call last)",
      "\u001b[1;32m~\\AppData\\Local\\Temp/ipykernel_20964/1457642152.py\u001b[0m in \u001b[0;36m<module>\u001b[1;34m\u001b[0m\n\u001b[0;32m     14\u001b[0m \u001b[1;33m\u001b[0m\u001b[0m\n\u001b[0;32m     15\u001b[0m \u001b[1;31m# Ridge regression is not a classifer so cannot get classification report on this model(does not make sense either)\u001b[0m\u001b[1;33m\u001b[0m\u001b[1;33m\u001b[0m\u001b[1;33m\u001b[0m\u001b[0m\n\u001b[1;32m---> 16\u001b[1;33m \u001b[0mget_reg_scores\u001b[0m\u001b[1;33m(\u001b[0m\u001b[0mclf\u001b[0m\u001b[1;33m,\u001b[0m \u001b[0mX\u001b[0m\u001b[1;33m,\u001b[0m \u001b[0my\u001b[0m\u001b[1;33m)\u001b[0m\u001b[1;33m\u001b[0m\u001b[1;33m\u001b[0m\u001b[0m\n\u001b[0m",
      "\u001b[1;32m~\\AppData\\Local\\Temp/ipykernel_20964/645865513.py\u001b[0m in \u001b[0;36mget_reg_scores\u001b[1;34m(clf, X_test, y_test)\u001b[0m\n\u001b[0;32m     24\u001b[0m \u001b[1;32mdef\u001b[0m \u001b[0mget_reg_scores\u001b[0m\u001b[1;33m(\u001b[0m\u001b[0mclf\u001b[0m\u001b[1;33m,\u001b[0m\u001b[0mX_test\u001b[0m\u001b[1;33m,\u001b[0m \u001b[0my_test\u001b[0m\u001b[1;33m)\u001b[0m\u001b[1;33m:\u001b[0m\u001b[1;33m\u001b[0m\u001b[1;33m\u001b[0m\u001b[0m\n\u001b[0;32m     25\u001b[0m     \u001b[0my_pred\u001b[0m \u001b[1;33m=\u001b[0m \u001b[0mclf\u001b[0m\u001b[1;33m.\u001b[0m\u001b[0mpredict\u001b[0m\u001b[1;33m(\u001b[0m\u001b[0mX_test\u001b[0m\u001b[1;33m)\u001b[0m\u001b[1;33m\u001b[0m\u001b[1;33m\u001b[0m\u001b[0m\n\u001b[1;32m---> 26\u001b[1;33m     \u001b[0mprint\u001b[0m\u001b[1;33m(\u001b[0m\u001b[1;34mf\"Classification score:{classification_report(y_test, y_pred)}\"\u001b[0m\u001b[1;33m)\u001b[0m\u001b[1;33m\u001b[0m\u001b[1;33m\u001b[0m\u001b[0m\n\u001b[0m\u001b[0;32m     27\u001b[0m     \u001b[0mprint\u001b[0m\u001b[1;33m(\u001b[0m\u001b[1;34mf\"Accuracy score:{accuracy_score(y_test, y_pred)}\"\u001b[0m\u001b[1;33m)\u001b[0m\u001b[1;33m\u001b[0m\u001b[1;33m\u001b[0m\u001b[0m\n\u001b[0;32m     28\u001b[0m     \u001b[0mprint\u001b[0m\u001b[1;33m(\u001b[0m\u001b[1;34mf\"ROC AUC score:{roc_auc_score(y_test, y_pred)}\"\u001b[0m\u001b[1;33m)\u001b[0m\u001b[1;33m\u001b[0m\u001b[1;33m\u001b[0m\u001b[0m\n",
      "\u001b[1;32mC:\\ProgramData\\Anaconda3\\envs\\MFI_Assignment_11\\lib\\site-packages\\sklearn\\metrics\\_classification.py\u001b[0m in \u001b[0;36mclassification_report\u001b[1;34m(y_true, y_pred, labels, target_names, sample_weight, digits, output_dict, zero_division)\u001b[0m\n\u001b[0;32m   2074\u001b[0m     \"\"\"\n\u001b[0;32m   2075\u001b[0m \u001b[1;33m\u001b[0m\u001b[0m\n\u001b[1;32m-> 2076\u001b[1;33m     \u001b[0my_type\u001b[0m\u001b[1;33m,\u001b[0m \u001b[0my_true\u001b[0m\u001b[1;33m,\u001b[0m \u001b[0my_pred\u001b[0m \u001b[1;33m=\u001b[0m \u001b[0m_check_targets\u001b[0m\u001b[1;33m(\u001b[0m\u001b[0my_true\u001b[0m\u001b[1;33m,\u001b[0m \u001b[0my_pred\u001b[0m\u001b[1;33m)\u001b[0m\u001b[1;33m\u001b[0m\u001b[1;33m\u001b[0m\u001b[0m\n\u001b[0m\u001b[0;32m   2077\u001b[0m \u001b[1;33m\u001b[0m\u001b[0m\n\u001b[0;32m   2078\u001b[0m     \u001b[1;32mif\u001b[0m \u001b[0mlabels\u001b[0m \u001b[1;32mis\u001b[0m \u001b[1;32mNone\u001b[0m\u001b[1;33m:\u001b[0m\u001b[1;33m\u001b[0m\u001b[1;33m\u001b[0m\u001b[0m\n",
      "\u001b[1;32mC:\\ProgramData\\Anaconda3\\envs\\MFI_Assignment_11\\lib\\site-packages\\sklearn\\metrics\\_classification.py\u001b[0m in \u001b[0;36m_check_targets\u001b[1;34m(y_true, y_pred)\u001b[0m\n\u001b[0;32m     93\u001b[0m         raise ValueError(\n\u001b[0;32m     94\u001b[0m             \"Classification metrics can't handle a mix of {0} and {1} targets\".format(\n\u001b[1;32m---> 95\u001b[1;33m                 \u001b[0mtype_true\u001b[0m\u001b[1;33m,\u001b[0m \u001b[0mtype_pred\u001b[0m\u001b[1;33m\u001b[0m\u001b[1;33m\u001b[0m\u001b[0m\n\u001b[0m\u001b[0;32m     96\u001b[0m             )\n\u001b[0;32m     97\u001b[0m         )\n",
      "\u001b[1;31mValueError\u001b[0m: Classification metrics can't handle a mix of binary and continuous targets"
     ]
    }
   ],
   "source": [
    "# Try to use SMOTE\n",
    "# Run Lasso for feature selection\n",
    "d_train = d[d['YEAR'] <= 1990]\n",
    "# Out of sample test data\n",
    "d_test = d[d['YEAR'] > 1990]\n",
    "\n",
    "# Train the model\n",
    "d1 = d_train.drop(['YEAR','CUSIP'], axis=1)\n",
    "X, y = select_features(d1)\n",
    "clf = train_ridge_reg(X,y)\n",
    "\n",
    "d1 = d_test.drop(['YEAR','CUSIP'], axis=1)\n",
    "X, y = select_features(d1)\n",
    "\n",
    "# Ridge regression is not a classifer so cannot get classification report on this model(does not make sense either)\n",
    "get_reg_scores(clf, X, y)\n"
   ]
  },
  {
   "cell_type": "markdown",
   "id": "5aace1cb-3627-4e2d-9bbe-ff2b3075faa6",
   "metadata": {},
   "source": [
    "## KNN"
   ]
  },
  {
   "cell_type": "code",
   "execution_count": 99,
   "id": "30e397b0-bc58-403f-ba4e-95765dbd4040",
   "metadata": {},
   "outputs": [],
   "source": [
    "def train_knn(X,y, class_weight='balanced'):\n",
    "    hparams = {\n",
    "        'n_neighbors': [i for i in range(1,150,2)]\n",
    "    }\n",
    "\n",
    "    cv_param = None\n",
    "    clf = GridSearchCV(KNeighborsClassifier(), \n",
    "                                param_grid=hparams,\n",
    "                                # scoring='f1',\n",
    "                                scoring='recall',\n",
    "                                cv=cv_param,\n",
    "                                n_jobs=-1\n",
    "                               )\n",
    "    clf.fit(X, y)\n",
    "    print(f\"Best Params:{clf.best_params_}\")\n",
    "    return clf"
   ]
  },
  {
   "cell_type": "code",
   "execution_count": 100,
   "id": "3424ea39-9b7e-41b1-b744-e2cd12f98dce",
   "metadata": {},
   "outputs": [
    {
     "name": "stdout",
     "output_type": "stream",
     "text": [
      "Best Params:{'n_neighbors': 1}\n",
      "Classification score:              precision    recall  f1-score   support\n",
      "\n",
      "         0.0       1.00      1.00      1.00     32215\n",
      "         1.0       0.00      0.00      0.00        36\n",
      "\n",
      "    accuracy                           1.00     32251\n",
      "   macro avg       0.50      0.50      0.50     32251\n",
      "weighted avg       1.00      1.00      1.00     32251\n",
      "\n",
      "Accuracy score:0.9985736876375926\n",
      "ROC AUC score:0.49984479279838584\n",
      "F1 score:0.0\n",
      "Precision Score:0.0\n",
      "Recall Score:0.0\n",
      "Confusion Martix:\n",
      "[[32205    10]\n",
      " [   36     0]]\n"
     ]
    },
    {
     "ename": "ValueError",
     "evalue": "Bin edges must be unique: array([0., 0., 0., 0., 0., 0., 0., 0., 0., 0., 1.]).\nYou can drop duplicate edges by setting the 'duplicates' kwarg",
     "output_type": "error",
     "traceback": [
      "\u001b[1;31m---------------------------------------------------------------------------\u001b[0m",
      "\u001b[1;31mValueError\u001b[0m                                Traceback (most recent call last)",
      "\u001b[1;32m~\\AppData\\Local\\Temp/ipykernel_20964/2484061523.py\u001b[0m in \u001b[0;36m<module>\u001b[1;34m\u001b[0m\n\u001b[0;32m     12\u001b[0m \u001b[0md1\u001b[0m \u001b[1;33m=\u001b[0m \u001b[0md_test\u001b[0m\u001b[1;33m.\u001b[0m\u001b[0mdrop\u001b[0m\u001b[1;33m(\u001b[0m\u001b[1;33m[\u001b[0m\u001b[1;34m'YEAR'\u001b[0m\u001b[1;33m,\u001b[0m\u001b[1;34m'CUSIP'\u001b[0m\u001b[1;33m]\u001b[0m\u001b[1;33m,\u001b[0m \u001b[0maxis\u001b[0m\u001b[1;33m=\u001b[0m\u001b[1;36m1\u001b[0m\u001b[1;33m)\u001b[0m\u001b[1;33m\u001b[0m\u001b[1;33m\u001b[0m\u001b[0m\n\u001b[0;32m     13\u001b[0m \u001b[0mX\u001b[0m\u001b[1;33m,\u001b[0m \u001b[0my\u001b[0m \u001b[1;33m=\u001b[0m \u001b[0mselect_features\u001b[0m\u001b[1;33m(\u001b[0m\u001b[0md1\u001b[0m\u001b[1;33m)\u001b[0m\u001b[1;33m\u001b[0m\u001b[1;33m\u001b[0m\u001b[0m\n\u001b[1;32m---> 14\u001b[1;33m \u001b[0mget_reg_scores\u001b[0m\u001b[1;33m(\u001b[0m\u001b[0mclf\u001b[0m\u001b[1;33m,\u001b[0m \u001b[0mX\u001b[0m\u001b[1;33m,\u001b[0m \u001b[0my\u001b[0m\u001b[1;33m)\u001b[0m\u001b[1;33m\u001b[0m\u001b[1;33m\u001b[0m\u001b[0m\n\u001b[0m",
      "\u001b[1;32m~\\AppData\\Local\\Temp/ipykernel_20964/645865513.py\u001b[0m in \u001b[0;36mget_reg_scores\u001b[1;34m(clf, X_test, y_test)\u001b[0m\n\u001b[0;32m     36\u001b[0m     \u001b[1;31m# print(f\"Predicted Probability:\\n{prob_predicted}\")\u001b[0m\u001b[1;33m\u001b[0m\u001b[1;33m\u001b[0m\u001b[1;33m\u001b[0m\u001b[0m\n\u001b[0;32m     37\u001b[0m \u001b[1;33m\u001b[0m\u001b[0m\n\u001b[1;32m---> 38\u001b[1;33m     \u001b[0mprob_predicted\u001b[0m\u001b[1;33m[\u001b[0m\u001b[1;34m'decile'\u001b[0m\u001b[1;33m]\u001b[0m \u001b[1;33m=\u001b[0m \u001b[0mpd\u001b[0m\u001b[1;33m.\u001b[0m\u001b[0mqcut\u001b[0m\u001b[1;33m(\u001b[0m\u001b[0mprob_predicted\u001b[0m\u001b[1;33m[\u001b[0m\u001b[1;34m'prob_bankruptcy'\u001b[0m\u001b[1;33m]\u001b[0m\u001b[1;33m,\u001b[0m \u001b[0mq\u001b[0m\u001b[1;33m=\u001b[0m\u001b[1;36m10\u001b[0m\u001b[1;33m,\u001b[0m \u001b[0mlabels\u001b[0m \u001b[1;33m=\u001b[0m \u001b[0mrange\u001b[0m\u001b[1;33m(\u001b[0m\u001b[1;36m1\u001b[0m\u001b[1;33m,\u001b[0m\u001b[1;36m11\u001b[0m\u001b[1;33m)\u001b[0m\u001b[1;33m)\u001b[0m\u001b[1;33m\u001b[0m\u001b[1;33m\u001b[0m\u001b[0m\n\u001b[0m\u001b[0;32m     39\u001b[0m     \u001b[0mprint\u001b[0m\u001b[1;33m(\u001b[0m\u001b[1;34mf\"Predicted Probability Deciles:\\n{prob_predicted}\"\u001b[0m\u001b[1;33m)\u001b[0m\u001b[1;33m\u001b[0m\u001b[1;33m\u001b[0m\u001b[0m\n\u001b[0;32m     40\u001b[0m \u001b[1;33m\u001b[0m\u001b[0m\n",
      "\u001b[1;32mC:\\ProgramData\\Anaconda3\\envs\\MFI_Assignment_11\\lib\\site-packages\\pandas\\core\\reshape\\tile.py\u001b[0m in \u001b[0;36mqcut\u001b[1;34m(x, q, labels, retbins, precision, duplicates)\u001b[0m\n\u001b[0;32m    377\u001b[0m         \u001b[0minclude_lowest\u001b[0m\u001b[1;33m=\u001b[0m\u001b[1;32mTrue\u001b[0m\u001b[1;33m,\u001b[0m\u001b[1;33m\u001b[0m\u001b[1;33m\u001b[0m\u001b[0m\n\u001b[0;32m    378\u001b[0m         \u001b[0mdtype\u001b[0m\u001b[1;33m=\u001b[0m\u001b[0mdtype\u001b[0m\u001b[1;33m,\u001b[0m\u001b[1;33m\u001b[0m\u001b[1;33m\u001b[0m\u001b[0m\n\u001b[1;32m--> 379\u001b[1;33m         \u001b[0mduplicates\u001b[0m\u001b[1;33m=\u001b[0m\u001b[0mduplicates\u001b[0m\u001b[1;33m,\u001b[0m\u001b[1;33m\u001b[0m\u001b[1;33m\u001b[0m\u001b[0m\n\u001b[0m\u001b[0;32m    380\u001b[0m     )\n\u001b[0;32m    381\u001b[0m \u001b[1;33m\u001b[0m\u001b[0m\n",
      "\u001b[1;32mC:\\ProgramData\\Anaconda3\\envs\\MFI_Assignment_11\\lib\\site-packages\\pandas\\core\\reshape\\tile.py\u001b[0m in \u001b[0;36m_bins_to_cuts\u001b[1;34m(x, bins, right, labels, precision, include_lowest, dtype, duplicates, ordered)\u001b[0m\n\u001b[0;32m    412\u001b[0m         \u001b[1;32mif\u001b[0m \u001b[0mduplicates\u001b[0m \u001b[1;33m==\u001b[0m \u001b[1;34m\"raise\"\u001b[0m\u001b[1;33m:\u001b[0m\u001b[1;33m\u001b[0m\u001b[1;33m\u001b[0m\u001b[0m\n\u001b[0;32m    413\u001b[0m             raise ValueError(\n\u001b[1;32m--> 414\u001b[1;33m                 \u001b[1;34mf\"Bin edges must be unique: {repr(bins)}.\\n\"\u001b[0m\u001b[1;33m\u001b[0m\u001b[1;33m\u001b[0m\u001b[0m\n\u001b[0m\u001b[0;32m    415\u001b[0m                 \u001b[1;34mf\"You can drop duplicate edges by setting the 'duplicates' kwarg\"\u001b[0m\u001b[1;33m\u001b[0m\u001b[1;33m\u001b[0m\u001b[0m\n\u001b[0;32m    416\u001b[0m             )\n",
      "\u001b[1;31mValueError\u001b[0m: Bin edges must be unique: array([0., 0., 0., 0., 0., 0., 0., 0., 0., 0., 1.]).\nYou can drop duplicate edges by setting the 'duplicates' kwarg"
     ]
    }
   ],
   "source": [
    "# In sample training data\n",
    "d_train = d[d['YEAR'] <= 1990]\n",
    "# Out of sample test data\n",
    "d_test = d[d['YEAR'] > 1990]\n",
    "\n",
    "# Train the model\n",
    "d1 = d_train.drop(['YEAR','CUSIP'], axis=1)\n",
    "X, y = select_features(d1)\n",
    "clf = train_knn(X,y)\n",
    "\n",
    "# Use test data to test the classifier\n",
    "d1 = d_test.drop(['YEAR','CUSIP'], axis=1)\n",
    "X, y = select_features(d1)\n",
    "get_reg_scores(clf, X, y)"
   ]
  },
  {
   "cell_type": "markdown",
   "id": "cde9be21-cb3e-4dbb-bbba-47a2db9aa07a",
   "metadata": {},
   "source": [
    "## Random Forest"
   ]
  },
  {
   "cell_type": "code",
   "execution_count": null,
   "id": "79e886f5-b4b4-4885-b49e-ed663e6a6216",
   "metadata": {},
   "outputs": [],
   "source": []
  },
  {
   "cell_type": "markdown",
   "id": "8975e80b-0f2a-48df-8394-2c202ec61871",
   "metadata": {},
   "source": [
    "## Survival Random Forest"
   ]
  },
  {
   "cell_type": "code",
   "execution_count": null,
   "id": "a6cf912e-c25e-4654-9f6b-16989ce6c780",
   "metadata": {},
   "outputs": [],
   "source": []
  },
  {
   "cell_type": "markdown",
   "id": "9a728797-18c9-4fd9-9eac-f3ede4788887",
   "metadata": {},
   "source": [
    "## Gradient Boosted trees (XGBOOST)"
   ]
  },
  {
   "cell_type": "code",
   "execution_count": null,
   "id": "2b0559bc-4eaa-43b0-acef-6dad313f0a05",
   "metadata": {},
   "outputs": [],
   "source": []
  },
  {
   "cell_type": "markdown",
   "id": "a19ad91a-a6a3-4459-864d-f579da04ad44",
   "metadata": {},
   "source": [
    "## Gradient Boosted trees (LIGHTGBM)"
   ]
  },
  {
   "cell_type": "code",
   "execution_count": null,
   "id": "45071133-6b53-4a3b-ad02-af7d5b865182",
   "metadata": {},
   "outputs": [],
   "source": []
  }
 ],
 "metadata": {
  "kernelspec": {
   "display_name": "Python 3 (ipykernel)",
   "language": "python",
   "name": "python3"
  },
  "language_info": {
   "codemirror_mode": {
    "name": "ipython",
    "version": 3
   },
   "file_extension": ".py",
   "mimetype": "text/x-python",
   "name": "python",
   "nbconvert_exporter": "python",
   "pygments_lexer": "ipython3",
   "version": "3.7.11"
  }
 },
 "nbformat": 4,
 "nbformat_minor": 5
}
