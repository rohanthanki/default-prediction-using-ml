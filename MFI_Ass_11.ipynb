{
 "cells": [
  {
   "cell_type": "code",
   "execution_count": 1,
   "id": "b1a4d049-631a-4c19-835e-a01ba4b3d62b",
   "metadata": {},
   "outputs": [],
   "source": [
    "import numpy as np\n",
    "import pandas as pd"
   ]
  },
  {
   "cell_type": "code",
   "execution_count": 2,
   "id": "ab3e1315-486e-4f09-9c01-3fe6502abe6a",
   "metadata": {},
   "outputs": [
    {
     "name": "stderr",
     "output_type": "stream",
     "text": [
      "C:\\Users\\rohan\\AppData\\Roaming\\Python\\Python37\\site-packages\\IPython\\core\\interactiveshell.py:3173: DtypeWarning: Columns (1,12) have mixed types.Specify dtype option on import or set low_memory=False.\n",
      "  interactivity=interactivity, compiler=compiler, result=result)\n"
     ]
    }
   ],
   "source": [
    "data = pd.read_csv('Data/merged_data.csv')"
   ]
  },
  {
   "cell_type": "raw",
   "id": "046b312e-9c3f-4375-a9c4-a11c48b60315",
   "metadata": {},
   "source": [
    "`Investment` = case_when(scf %in% c(1,2,3) ~ capx+ivch+aqc+fuseo-sppe-siv,\n",
    "                         scf == 7 ~ capx+ivch+aqc-sppe-siv-ivstch-ivaco),\n",
    "`Change in Working Capital` = case_when(scf == 1 ~ wcapc+chech+dlcch,\n",
    "                                     scf %in% c(2,3) ~ -wcapc+chech-dlcch,\n",
    "                                     scf == 7 ~ -recch-invch-apalch-txach-aoloch+chech-fiao-dlcch),\n",
    "`Internal Cash Flow` = case_when(scf %in% c(1,2,3) ~ ibc+xidoc+dpc+txdc+esubc+sppiv+fopo+fsrco,\n",
    "                              scf == 7 ~ ibc+xidoc+dpc+txdc+esubc+sppiv+fopo+exre),"
   ]
  },
  {
   "cell_type": "code",
   "execution_count": 47,
   "id": "cce33400-93da-4f42-86f4-8a5602dfe0ea",
   "metadata": {},
   "outputs": [],
   "source": [
    "def compute_features(df_raw):\n",
    "    df = df_raw.copy()\n",
    "    \n",
    "    # Computing quantities\n",
    "    df['Net Assets'] = df['at'] - df['lct']\n",
    "    \n",
    "    # Change these 3\n",
    "    df['Investment'] = df['capx'] + df['ivch'] + df['aqc'] + df['fuseo'] - df['sppe'] - df['siv']\n",
    "    df['Change in Working Capital'] = df['wcapc'] + df['chech'] + df['dlcch']\n",
    "    df['Internal Cash Flow'] = df['ibc'] + df['xidoc'] + df['dpc'] + df['txdc'] + df['esubc'] + df['sppiv'] + df['fopo'] + df['fsrco']\n",
    "    \n",
    "    df['Financing Deficit'] = df['dv'] + df['Investment'] - df['Change in Working Capital'] - df['Internal Cash Flow']\n",
    "    df['Net Debt Issued'] = df['dltis'] - df['dltr']\n",
    "    df['Net Equity Issued'] = df['sstk'] - df['prstkc']\n",
    "    df['Net External Financing'] = df['Net Debt Issued'] + df['Net Equity Issued']\n",
    "    df['Total Debt'] = df['dlc'] + df['dltt']\n",
    "    df['Book Capitalization'] = df['Total Debt'] + df['teq']\n",
    "    \n",
    "    df['Current maturity of long-term debt/net assets'] = df['dlc'] / df['Net Assets']\n",
    "    df['Long Term Debt / Total Assets'] = df['dltt'] / df['at']\n",
    "    df['Book Leverage'] = (df['dltt'] + df['dlc'])/(df['dltt'] + df['dlc'] + df['seq'])\n",
    "    df['Cash Dividend / Net Assets'] = df['dv'] / df['Net Assets']\n",
    "    df['Investment / df[Net Assets'] = df['Investment'] / df['Net Assets']\n",
    "    df['Change in Working capital / df[Net Assets'] = df['Change in Working Capital'] / df['Net Assets']\n",
    "    df['Internal Cash Flow / Net Assets'] = df['Internal Cash Flow'] / df['Net Assets']\n",
    "    df['Financing Deficit / Net Assets'] = df['Financing Deficit'] / df['Net Assets']\n",
    "    df['Gross LT Debt Issued / Net Assets'] = df['dltis'] / df['Net Assets']\n",
    "    df['Net Debt Issued / Net Assets'] = df['Net Debt Issued'] / df['Net Assets']\n",
    "    df['Net Equity Issued / Net Assets'] = df['Net Equity Issued'] / df['Net Assets']\n",
    "    df['Net External Financing / Net Assets'] = df['Net External Financing'] / df['Net Assets']\n",
    "    df['Total Debt / Book Capitalization'] = df['Total Debt'] / df['Book Capitalization']\n",
    "    df['Tangibility'] = df['ppent'] / df['at']\n",
    "    df['Market Value of Assets / df[Book Value of Assets'] = df['mkvalt'] / df['at']\n",
    "    df['Log Sales'] = df['sale']\n",
    "    df['Profitability'] = df['ni'] / df['at']\n",
    "    df['Current Ratio'] = df['act'] - df['lct']\n",
    "    df['Quick Ratio'] = (df['che'] + df['rect']) / df['lct']\n",
    "    df['Debt to Equity'] = df['lt'] / df['teq']\n",
    "    df['Interest Burden'] = 1 - (df['xint'] / df['oiadp'])\n",
    "    df['Interest Coverage'] = df['oiadp'] / df['xint']\n",
    "    df['Leverage'] = df['at'] / df['teq']\n",
    "    df['Return on Sales (Profit Margin)'] =  df['oiadp'] / df['sale']\n",
    "    df['Working Capital / Total Assets'] = ( df['act'] - df['lct']) / df['at']\n",
    "    df['Retained Earnings / Total Assets'] =  df['re'] / df['at']\n",
    "    df['Earning Before Interest & Tax / Total Assets'] =  df['oiadp'] / df['at']\n",
    "    df['Market Value of Equity / Total Liabilities'] = ( df['prcc_f']* df['csho']) / df['lt']\n",
    "    df['Sales / Total Assets'] =  df['sale']/ df['at']\n",
    "    \n",
    "    return(df)\n",
    "\n",
    "data_w = compute_features(data)"
   ]
  },
  {
   "cell_type": "code",
   "execution_count": null,
   "id": "5383b1c8-e78e-4e5f-a9e8-00659b19e2ce",
   "metadata": {},
   "outputs": [],
   "source": [
    "def select_features(df):    \n",
    "    \n",
    "    # Selecting the feature matrix\n",
    "    X = df[[]].to_numpy()\n",
    "    y = df['Y'].to_numpy()\n",
    "    \n",
    "    # Standardising the input features\n",
    "    scaler = StandardScaler()\n",
    "    X_scaled = scaler.fit_transform(X)\n",
    "    \n",
    "    # Returning X and y values\n",
    "    return(X_scaled,y)"
   ]
  },
  {
   "cell_type": "code",
   "execution_count": null,
   "id": "cf32452a-e335-4d60-932f-6ca3484f73bd",
   "metadata": {},
   "outputs": [],
   "source": []
  }
 ],
 "metadata": {
  "kernelspec": {
   "display_name": "quant_general",
   "language": "python",
   "name": "quant_general"
  },
  "language_info": {
   "codemirror_mode": {
    "name": "ipython",
    "version": 3
   },
   "file_extension": ".py",
   "mimetype": "text/x-python",
   "name": "python",
   "nbconvert_exporter": "python",
   "pygments_lexer": "ipython3",
   "version": "3.7.11"
  }
 },
 "nbformat": 4,
 "nbformat_minor": 5
}
